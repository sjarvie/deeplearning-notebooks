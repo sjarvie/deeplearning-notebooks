{
 "cells": [
  {
   "cell_type": "markdown",
   "metadata": {
    "colab_type": "text",
    "id": "kR-4eNdK6lYS"
   },
   "source": [
    "Deep Learning\n",
    "=============\n",
    "\n",
    "Assignment 3\n",
    "------------\n",
    "\n",
    "Previously in `2_fullyconnected.ipynb`, you trained a logistic regression and a neural network model.\n",
    "\n",
    "The goal of this assignment is to explore regularization techniques."
   ]
  },
  {
   "cell_type": "code",
   "execution_count": 4,
   "metadata": {
    "cellView": "both",
    "colab": {
     "autoexec": {
      "startup": false,
      "wait_interval": 0
     }
    },
    "colab_type": "code",
    "collapsed": true,
    "id": "JLpLa8Jt7Vu4"
   },
   "outputs": [],
   "source": [
    "# These are all the modules we'll be using later. Make sure you can import them\n",
    "# before proceeding further.\n",
    "from __future__ import print_function\n",
    "import numpy as np\n",
    "import tensorflow as tf\n",
    "from six.moves import cPickle as pickle"
   ]
  },
  {
   "cell_type": "markdown",
   "metadata": {
    "colab_type": "text",
    "id": "1HrCK6e17WzV"
   },
   "source": [
    "First reload the data we generated in _notmist.ipynb_."
   ]
  },
  {
   "cell_type": "code",
   "execution_count": 5,
   "metadata": {
    "cellView": "both",
    "colab": {
     "autoexec": {
      "startup": false,
      "wait_interval": 0
     },
     "output_extras": [
      {
       "item_id": 1
      }
     ]
    },
    "colab_type": "code",
    "collapsed": false,
    "executionInfo": {
     "elapsed": 11777,
     "status": "ok",
     "timestamp": 1449849322348,
     "user": {
      "color": "",
      "displayName": "",
      "isAnonymous": false,
      "isMe": true,
      "permissionId": "",
      "photoUrl": "",
      "sessionId": "0",
      "userId": ""
     },
     "user_tz": 480
    },
    "id": "y3-cj1bpmuxc",
    "outputId": "e03576f1-ebbe-4838-c388-f1777bcc9873"
   },
   "outputs": [
    {
     "name": "stdout",
     "output_type": "stream",
     "text": [
      "Training set (200000, 28, 28) (200000,)\n",
      "Validation set (10000, 28, 28) (10000,)\n",
      "Test set (10000, 28, 28) (10000,)\n"
     ]
    }
   ],
   "source": [
    "pickle_file = 'notMNIST.pickle'\n",
    "\n",
    "with open(pickle_file, 'rb') as f:\n",
    "  save = pickle.load(f)\n",
    "  train_dataset = save['train_dataset']\n",
    "  train_labels = save['train_labels']\n",
    "  valid_dataset = save['valid_dataset']\n",
    "  valid_labels = save['valid_labels']\n",
    "  test_dataset = save['test_dataset']\n",
    "  test_labels = save['test_labels']\n",
    "  del save  # hint to help gc free up memory\n",
    "  print('Training set', train_dataset.shape, train_labels.shape)\n",
    "  print('Validation set', valid_dataset.shape, valid_labels.shape)\n",
    "  print('Test set', test_dataset.shape, test_labels.shape)"
   ]
  },
  {
   "cell_type": "markdown",
   "metadata": {
    "colab_type": "text",
    "id": "L7aHrm6nGDMB"
   },
   "source": [
    "Reformat into a shape that's more adapted to the models we're going to train:\n",
    "- data as a flat matrix,\n",
    "- labels as float 1-hot encodings."
   ]
  },
  {
   "cell_type": "code",
   "execution_count": 6,
   "metadata": {
    "cellView": "both",
    "colab": {
     "autoexec": {
      "startup": false,
      "wait_interval": 0
     },
     "output_extras": [
      {
       "item_id": 1
      }
     ]
    },
    "colab_type": "code",
    "collapsed": false,
    "executionInfo": {
     "elapsed": 11728,
     "status": "ok",
     "timestamp": 1449849322356,
     "user": {
      "color": "",
      "displayName": "",
      "isAnonymous": false,
      "isMe": true,
      "permissionId": "",
      "photoUrl": "",
      "sessionId": "0",
      "userId": ""
     },
     "user_tz": 480
    },
    "id": "IRSyYiIIGIzS",
    "outputId": "3f8996ee-3574-4f44-c953-5c8a04636582"
   },
   "outputs": [
    {
     "name": "stdout",
     "output_type": "stream",
     "text": [
      "Training set (200000, 784) (200000, 10)\n",
      "Validation set (10000, 784) (10000, 10)\n",
      "Test set (10000, 784) (10000, 10)\n"
     ]
    }
   ],
   "source": [
    "image_size = 28\n",
    "num_labels = 10\n",
    "\n",
    "def reformat(dataset, labels):\n",
    "  dataset = dataset.reshape((-1, image_size * image_size)).astype(np.float32)\n",
    "  # Map 2 to [0.0, 1.0, 0.0 ...], 3 to [0.0, 0.0, 1.0 ...]\n",
    "  labels = (np.arange(num_labels) == labels[:,None]).astype(np.float32)\n",
    "  return dataset, labels\n",
    "train_dataset, train_labels = reformat(train_dataset, train_labels)\n",
    "valid_dataset, valid_labels = reformat(valid_dataset, valid_labels)\n",
    "test_dataset, test_labels = reformat(test_dataset, test_labels)\n",
    "print('Training set', train_dataset.shape, train_labels.shape)\n",
    "print('Validation set', valid_dataset.shape, valid_labels.shape)\n",
    "print('Test set', test_dataset.shape, test_labels.shape)"
   ]
  },
  {
   "cell_type": "code",
   "execution_count": 7,
   "metadata": {
    "cellView": "both",
    "colab": {
     "autoexec": {
      "startup": false,
      "wait_interval": 0
     }
    },
    "colab_type": "code",
    "collapsed": false,
    "id": "RajPLaL_ZW6w"
   },
   "outputs": [
    {
     "name": "stdout",
     "output_type": "stream",
     "text": [
      "ready to go\n"
     ]
    }
   ],
   "source": [
    "def accuracy(predictions, labels):\n",
    "  return (100.0 * np.sum(np.argmax(predictions, 1) == np.argmax(labels, 1))\n",
    "          / predictions.shape[0])\n",
    "print('ready to go')"
   ]
  },
  {
   "cell_type": "markdown",
   "metadata": {
    "colab_type": "text",
    "id": "sgLbUAQ1CW-1"
   },
   "source": [
    "---\n",
    "Problem 1\n",
    "---------\n",
    "\n",
    "Introduce and tune L2 regularization for both logistic and neural network models. Remember that L2 amounts to adding a penalty on the norm of the weights to the loss. In TensorFlow, you can compute the L2 loss for a tensor `t` using `nn.l2_loss(t)`. The right amount of regularization should improve your validation / test accuracy.\n",
    "\n",
    "---"
   ]
  },
  {
   "cell_type": "code",
   "execution_count": 18,
   "metadata": {
    "collapsed": false
   },
   "outputs": [
    {
     "name": "stdout",
     "output_type": "stream",
     "text": [
      "Initialized\n",
      "Loss at step 0: 325.570343\n",
      "Training accuracy: 7.8%\n",
      "Validation accuracy: 10.5%\n",
      "Loss at step 100: 1.012270\n",
      "Training accuracy: 81.3%\n",
      "Validation accuracy: 81.0%\n",
      "Loss at step 200: 0.999542\n",
      "Training accuracy: 81.3%\n",
      "Validation accuracy: 81.0%\n",
      "Loss at step 300: 0.998729\n",
      "Training accuracy: 81.4%\n",
      "Validation accuracy: 81.1%\n",
      "Loss at step 400: 0.998499\n",
      "Training accuracy: 81.4%\n",
      "Validation accuracy: 81.1%\n",
      "Loss at step 500: 0.998427\n",
      "Training accuracy: 81.4%\n",
      "Validation accuracy: 81.2%\n",
      "Loss at step 600: 0.998403\n",
      "Training accuracy: 81.4%\n",
      "Validation accuracy: 81.2%\n",
      "Loss at step 700: 0.998396\n",
      "Training accuracy: 81.4%\n",
      "Validation accuracy: 81.2%\n",
      "Loss at step 800: 0.998393\n",
      "Training accuracy: 81.4%\n",
      "Validation accuracy: 81.2%\n",
      "Test accuracy: 87.6%\n"
     ]
    }
   ],
   "source": [
    "# SGD with L2 Regularization\n",
    "train_subset = 10000\n",
    "beta = 0.1\n",
    "graph = tf.Graph()\n",
    "with graph.as_default():\n",
    "\n",
    "  # Input data.\n",
    "  # Load the training, validation and test data into constants that are\n",
    "  # attached to the graph.\n",
    "  tf_train_dataset = tf.constant(train_dataset[:train_subset, :])\n",
    "  tf_train_labels = tf.constant(train_labels[:train_subset])\n",
    "  tf_valid_dataset = tf.constant(valid_dataset)\n",
    "  tf_test_dataset = tf.constant(test_dataset)\n",
    "  \n",
    "  # Variables.\n",
    "  # These are the parameters that we are going to be training. The weight\n",
    "  # matrix will be initialized using random valued following a (truncated)\n",
    "  # normal distribution. The biases get initialized to zero.\n",
    "  weights = tf.Variable(\n",
    "    tf.truncated_normal([image_size * image_size, num_labels]))\n",
    "  biases = tf.Variable(tf.zeros([num_labels]))\n",
    "  \n",
    "  # Training computation.\n",
    "  # We multiply the inputs with the weight matrix, and add biases. We compute\n",
    "  # the softmax and cross-entropy (it's one operation in TensorFlow, because\n",
    "  # it's very common, and it can be optimized). We take the average of this\n",
    "  # cross-entropy across all training examples: that's our loss.\n",
    "  logits = tf.matmul(tf_train_dataset, weights) + biases\n",
    "\n",
    "  # Set the l2 loss as an average of the weights\n",
    "  l2_loss = beta * tf.nn.l2_loss(weights)\n",
    "\n",
    "  loss = tf.reduce_mean(\n",
    "    tf.nn.softmax_cross_entropy_with_logits(logits, tf_train_labels)) + l2_loss\n",
    "  \n",
    "  # Optimizer.\n",
    "  # We are going to find the minimum of this loss using gradient descent.\n",
    "  optimizer = tf.train.GradientDescentOptimizer(0.5).minimize(loss)\n",
    "  \n",
    "  # Predictions for the training, validation, and test data.\n",
    "  # These are not part of training, but merely here so that we can report\n",
    "  # accuracy figures as we train.\n",
    "  train_prediction = tf.nn.softmax(logits)\n",
    "  valid_prediction = tf.nn.softmax(\n",
    "    tf.matmul(tf_valid_dataset, weights) + biases)\n",
    "  test_prediction = tf.nn.softmax(tf.matmul(tf_test_dataset, weights) + biases)\n",
    "\n",
    "num_steps = 801\n",
    "\n",
    "def accuracy(predictions, labels):\n",
    "  return (100.0 * np.sum(np.argmax(predictions, 1) == np.argmax(labels, 1))\n",
    "          / predictions.shape[0])\n",
    "\n",
    "with tf.Session(graph=graph) as session:\n",
    "  # This is a one-time operation which ensures the parameters get initialized as\n",
    "  # we described in the graph: random weights for the matrix, zeros for the\n",
    "  # biases. \n",
    "  tf.initialize_all_variables().run()\n",
    "  print('Initialized')\n",
    "  for step in range(num_steps):\n",
    "    # Run the computations. We tell .run() that we want to run the optimizer,\n",
    "    # and get the loss value and the training predictions returned as numpy\n",
    "    # arrays.\n",
    "    _, l, predictions = session.run([optimizer, loss, train_prediction])\n",
    "    if (step % 100 == 0):\n",
    "      print('Loss at step %d: %f' % (step, l))\n",
    "      print('Training accuracy: %.1f%%' % accuracy(\n",
    "        predictions, train_labels[:train_subset, :]))\n",
    "      # Calling .eval() on valid_prediction is basically like calling run(), but\n",
    "      # just to get that one numpy array. Note that it recomputes all its graph\n",
    "      # dependencies.\n",
    "      print('Validation accuracy: %.1f%%' % accuracy(\n",
    "        valid_prediction.eval(), valid_labels))\n",
    "  print('Test accuracy: %.1f%%' % accuracy(test_prediction.eval(), test_labels))\n"
   ]
  },
  {
   "cell_type": "code",
   "execution_count": 25,
   "metadata": {
    "collapsed": false
   },
   "outputs": [
    {
     "name": "stdout",
     "output_type": "stream",
     "text": [
      "Initialized\n",
      "Minibatch loss at step 0: 3.576902\n",
      "Minibatch accuracy: 7.0%\n",
      "Validation accuracy: 9.4%\n",
      "Minibatch loss at step 500: 0.771668\n",
      "Minibatch accuracy: 81.2%\n",
      "Validation accuracy: 81.6%\n",
      "Minibatch loss at step 1000: 0.724553\n",
      "Minibatch accuracy: 82.0%\n",
      "Validation accuracy: 82.0%\n",
      "Minibatch loss at step 1500: 0.631046\n",
      "Minibatch accuracy: 85.2%\n",
      "Validation accuracy: 82.4%\n",
      "Minibatch loss at step 2000: 0.775489\n",
      "Minibatch accuracy: 79.7%\n",
      "Validation accuracy: 83.0%\n",
      "Minibatch loss at step 2500: 0.862135\n",
      "Minibatch accuracy: 77.3%\n",
      "Validation accuracy: 83.1%\n",
      "Minibatch loss at step 3000: 0.831017\n",
      "Minibatch accuracy: 78.1%\n",
      "Validation accuracy: 83.2%\n",
      "SGD + RELU accuracy: 89.2%\n"
     ]
    }
   ],
   "source": [
    "# NN with L2 Regularization\n",
    "batch_size = 128\n",
    "num_steps = 3001\n",
    "beta = 0.1\n",
    "\n",
    "graph_nn = tf.Graph()\n",
    "with graph_nn.as_default():\n",
    "\n",
    "  # Input data. For the training data, we use a placeholder that will be fed\n",
    "  # at run time with a training minibatch.\n",
    "  tf_train_dataset = tf.placeholder(tf.float32,\n",
    "                                    shape=(batch_size, image_size * image_size))\n",
    "  tf_train_labels = tf.placeholder(tf.float32, shape=(batch_size, num_labels))\n",
    "  tf_valid_dataset = tf.constant(valid_dataset)\n",
    "  tf_test_dataset = tf.constant(test_dataset)\n",
    "  \n",
    "  # Variables.\n",
    "  weights = tf.Variable(\n",
    "    tf.truncated_normal([image_size * image_size, num_labels]))\n",
    "  biases = tf.Variable(tf.zeros([num_labels]))\n",
    " \n",
    "  # Parametes\n",
    "  n_input = image_size * image_size\n",
    "  n_hidden_1 = 150 # 1st layer nodes(features)\n",
    "\n",
    "  # Store layers weight & bias\n",
    "  layer_weights = {\n",
    "    'l1': tf.Variable(tf.random_normal([n_input, n_hidden_1], stddev=0.1)),\n",
    "    'logits': tf.Variable(tf.random_normal([n_hidden_1, num_labels], stddev=0.1))\n",
    "  }\n",
    "  layer_biases = {\n",
    "    'l1': tf.Variable(tf.random_normal([n_hidden_1], stddev=0.1)),\n",
    "    'logits': tf.Variable(tf.random_normal([num_labels], stddev=0.1))\n",
    "  }\n",
    "\n",
    "  # NN computation(1st layer)\n",
    "  layer_1 = tf.add(tf.matmul(tf_train_dataset, layer_weights['l1']), layer_biases['l1'])\n",
    "  layer_1_relu = tf.nn.relu(layer_1)\n",
    "\n",
    "  # NN Output(Logits)\n",
    "  logits = tf.add(tf.matmul(layer_1_relu, layer_weights['logits']), layer_biases['logits'])\n",
    "    \n",
    "  # Set the l2 loss as an average of the weights\n",
    "  l2_loss = beta * tf.nn.l2_loss(layer_weights['logits'])\n",
    "\n",
    "  # Compute softmax and cross entropy of logits  \n",
    "  loss = tf.reduce_mean(\n",
    "    tf.nn.softmax_cross_entropy_with_logits(logits, tf_train_labels)) + l2_loss\n",
    "  \n",
    "  # Optimizer: SGD\n",
    "  optimizer = tf.train.GradientDescentOptimizer(0.05).minimize(loss)\n",
    "  \n",
    "  # Predictions for the training, validation, and test data.\n",
    "  train_prediction = tf.nn.softmax(logits)\n",
    "\n",
    "  # TODO what do I do here to get other predictions?\n",
    "  def forward_prop(dataset):\n",
    "    \n",
    "    # apply first layer with relu\n",
    "     prop_layer_1 = tf.add(tf.matmul(dataset, layer_weights['l1']), layer_biases['l1'])\n",
    "     prop_layer_1_relu = tf.nn.relu(prop_layer_1)\n",
    "\n",
    "     # apply output layer\n",
    "     return tf.add(tf.matmul(prop_layer_1_relu, layer_weights['logits']), layer_biases['logits'])\n",
    "\n",
    "  # now, forward prop the datasets, and set softmax values\n",
    "  valid_prediction = tf.nn.softmax(forward_prop(tf_valid_dataset))\n",
    "  test_prediction = tf.nn.softmax(forward_prop(tf_test_dataset))\n",
    "\n",
    "    \n",
    "def accuracy(predictions, labels):\n",
    "  return (100.0 * np.sum(np.argmax(predictions, 1) == np.argmax(labels, 1))\n",
    "          / predictions.shape[0])\n",
    "\n",
    "with tf.Session(graph=graph_nn) as session:\n",
    "  tf.initialize_all_variables().run()\n",
    "  print(\"Initialized\")\n",
    "  for step in range(num_steps):\n",
    "    # Pick an offset within the training data, which has been randomized.\n",
    "    # Note: we could use better randomization across epochs.\n",
    "    offset = (step * batch_size) % (train_labels.shape[0] - batch_size)\n",
    "    # Generate a minibatch.\n",
    "    batch_data = train_dataset[offset:(offset + batch_size), :]\n",
    "    batch_labels = train_labels[offset:(offset + batch_size), :]\n",
    "    # Prepare a dictionary telling the session where to feed the minibatch.\n",
    "    # The key of the dictionary is the placeholder node of the graph to be fed,\n",
    "    # and the value is the numpy array to feed to it.\n",
    "    feed_dict = {tf_train_dataset : batch_data, tf_train_labels : batch_labels}\n",
    "    _, l, predictions = session.run(\n",
    "      [optimizer, \n",
    "       loss, \n",
    "       train_prediction], \n",
    "        feed_dict=feed_dict)\n",
    "    if (step % 500 == 0):\n",
    "      print(\"Minibatch loss at step %d: %f\" % (step, l))\n",
    "      print(\"Minibatch accuracy: %.1f%%\" % accuracy(predictions, batch_labels))\n",
    "      print(\"Validation accuracy: %.1f%%\" % accuracy(\n",
    "        valid_prediction.eval(), valid_labels))\n",
    "  print(\"SGD + RELU accuracy: %.1f%%\" % accuracy(test_prediction.eval(), test_labels))\n"
   ]
  },
  {
   "cell_type": "code",
   "execution_count": 12,
   "metadata": {
    "collapsed": true
   },
   "outputs": [
    {
     "name": "stdout",
     "output_type": "stream",
     "text": [
      "Initialized\n",
      "Minibatch loss at step 0: 17.368444\n",
      "Minibatch accuracy: 10.9%\n",
      "Validation accuracy: 30.1%\n",
      "Minibatch loss at step 500: 0.792217\n",
      "Minibatch accuracy: 82.0%\n",
      "Validation accuracy: 81.3%\n",
      "Minibatch loss at step 1000: 0.795392\n",
      "Minibatch accuracy: 78.1%\n",
      "Validation accuracy: 81.3%\n",
      "Minibatch loss at step 1500: 0.699853\n",
      "Minibatch accuracy: 82.8%\n",
      "Validation accuracy: 81.5%\n",
      "Minibatch loss at step 2000: 0.887771\n",
      "Minibatch accuracy: 78.9%\n",
      "Validation accuracy: 81.0%\n",
      "Minibatch loss at step 2500: 1.017639\n",
      "Minibatch accuracy: 75.8%\n",
      "Validation accuracy: 82.3%\n",
      "Minibatch loss at step 3000: 0.940220\n",
      "Minibatch accuracy: 75.8%\n",
      "Validation accuracy: 81.9%\n",
      "SGD + RELU accuracy: 88.2%\n"
     ]
    }
   ],
   "source": []
  },
  {
   "cell_type": "markdown",
   "metadata": {
    "colab_type": "text",
    "id": "na8xX2yHZzNF"
   },
   "source": [
    "---\n",
    "Problem 2\n",
    "---------\n",
    "Let's demonstrate an extreme case of overfitting. Restrict your training data to just a few batches. What happens?\n",
    "\n",
    "---"
   ]
  },
  {
   "cell_type": "code",
   "execution_count": 26,
   "metadata": {
    "collapsed": false
   },
   "outputs": [
    {
     "name": "stdout",
     "output_type": "stream",
     "text": [
      "Initialized\n",
      "Minibatch loss at step 0: 5.209593\n",
      "Minibatch accuracy: 11.7%\n",
      "Validation accuracy: 10.9%\n",
      "SGD + RELU accuracy: 19.6%\n"
     ]
    }
   ],
   "source": [
    "## NN with L2 Regularization\n",
    "\n",
    "batch_size = 128\n",
    "num_steps = 3\n",
    "beta = 0.3\n",
    "\n",
    "graph_nn = tf.Graph()\n",
    "with graph_nn.as_default():\n",
    "\n",
    "  # Input data. For the training data, we use a placeholder that will be fed\n",
    "  # at run time with a training minibatch.\n",
    "  tf_train_dataset = tf.placeholder(tf.float32,\n",
    "                                    shape=(batch_size, image_size * image_size))\n",
    "  tf_train_labels = tf.placeholder(tf.float32, shape=(batch_size, num_labels))\n",
    "  tf_valid_dataset = tf.constant(valid_dataset)\n",
    "  tf_test_dataset = tf.constant(test_dataset)\n",
    "  \n",
    "  # Variables.\n",
    "  weights = tf.Variable(\n",
    "    tf.truncated_normal([image_size * image_size, num_labels]))\n",
    "  biases = tf.Variable(tf.zeros([num_labels]))\n",
    " \n",
    "  # Parametes\n",
    "  n_input = image_size * image_size\n",
    "  n_hidden_1 = 200 # 1st layer nodes(features)\n",
    "\n",
    "  # Store layers weight & bias\n",
    "  layer_weights = {\n",
    "    'l1': tf.Variable(tf.truncated_normal([n_input, n_hidden_1], stddev=0.1)),\n",
    "    'logits': tf.Variable(tf.truncated_normal([n_hidden_1, num_labels], stddev=0.1))\n",
    "  }\n",
    "  layer_biases = {\n",
    "    'l1': tf.Variable(tf.random_normal([n_hidden_1], stddev=0.1)),\n",
    "    'logits': tf.Variable(tf.random_normal([num_labels], stddev=0.1))\n",
    "  }\n",
    "\n",
    "  # NN computation(1st layer)\n",
    "  layer_1 = tf.add(tf.matmul(tf_train_dataset, layer_weights['l1']), layer_biases['l1'])\n",
    "  layer_1_relu = tf.nn.relu(layer_1)\n",
    "    \n",
    " \n",
    "  # NN Output(Logits)\n",
    "  logits = tf.add(tf.matmul(layer_1_relu, layer_weights['logits']), layer_biases['logits'])\n",
    "    \n",
    "  # Set the l2 loss as an average of the weights\n",
    "  l2_loss = beta * tf.nn.l2_loss(layer_weights['logits'])\n",
    "\n",
    "  # Compute softmax and cross entropy of logits  \n",
    "  loss = tf.reduce_mean(\n",
    "    tf.nn.softmax_cross_entropy_with_logits(logits, tf_train_labels)) + l2_loss\n",
    "  \n",
    "  # Optimizer: SGD\n",
    "  optimizer = tf.train.GradientDescentOptimizer(0.05).minimize(loss)\n",
    "  \n",
    "  # Predictions for the training, validation, and test data.\n",
    "  train_prediction = tf.nn.softmax(logits)\n",
    "\n",
    "  # TODO what do I do here to get other predictions?\n",
    "  def forward_prop(dataset):\n",
    "    \n",
    "    # apply first layer with relu\n",
    "     prop_layer_1 = tf.add(tf.matmul(dataset, layer_weights['l1']), layer_biases['l1'])\n",
    "     prop_layer_1_relu = tf.nn.relu(prop_layer_1)\n",
    "\n",
    "     # apply output layer\n",
    "     return tf.add(tf.matmul(prop_layer_1_relu, layer_weights['logits']), layer_biases['logits'])\n",
    "\n",
    "  # now, forward prop the datasets, and set softmax values\n",
    "  valid_prediction = tf.nn.softmax(forward_prop(tf_valid_dataset))\n",
    "  test_prediction = tf.nn.softmax(forward_prop(tf_test_dataset))\n",
    "\n",
    "    \n",
    "def accuracy(predictions, labels):\n",
    "  return (100.0 * np.sum(np.argmax(predictions, 1) == np.argmax(labels, 1))\n",
    "          / predictions.shape[0])\n",
    "\n",
    "with tf.Session(graph=graph_nn) as session:\n",
    "  tf.initialize_all_variables().run()\n",
    "  print(\"Initialized\")\n",
    "  for step in range(num_steps):\n",
    "    # Pick an offset within the training data, which has been randomized.\n",
    "    # Note: we could use better randomization across epochs.\n",
    "    offset = (step * batch_size) % (train_labels.shape[0] - batch_size)\n",
    "    # Generate a minibatch.\n",
    "    batch_data = train_dataset[offset:(offset + batch_size), :]\n",
    "    batch_labels = train_labels[offset:(offset + batch_size), :]\n",
    "    # Prepare a dictionary telling the session where to feed the minibatch.\n",
    "    # The key of the dictionary is the placeholder node of the graph to be fed,\n",
    "    # and the value is the numpy array to feed to it.\n",
    "    feed_dict = {tf_train_dataset : batch_data, tf_train_labels : batch_labels}\n",
    "    _, l, predictions = session.run(\n",
    "      [optimizer, \n",
    "       loss, \n",
    "       train_prediction], \n",
    "        feed_dict=feed_dict)\n",
    "    if (step % 500 == 0):\n",
    "      print(\"Minibatch loss at step %d: %f\" % (step, l))\n",
    "      print(\"Minibatch accuracy: %.1f%%\" % accuracy(predictions, batch_labels))\n",
    "      print(\"Validation accuracy: %.1f%%\" % accuracy(\n",
    "        valid_prediction.eval(), valid_labels))\n",
    "  print(\"SGD + RELU accuracy: %.1f%%\" % accuracy(test_prediction.eval(), test_labels))\n",
    "\n",
    "  # TODO this gives out 88.2% accurracy, which is less than the 89.5% in A2, optimize this"
   ]
  },
  {
   "cell_type": "code",
   "execution_count": null,
   "metadata": {
    "collapsed": true
   },
   "outputs": [],
   "source": [
    "The accuracy drops to 19.6%, much lower than above. "
   ]
  },
  {
   "cell_type": "markdown",
   "metadata": {
    "colab_type": "text",
    "id": "ww3SCBUdlkRc"
   },
   "source": [
    "---\n",
    "Problem 3\n",
    "---------\n",
    "Introduce Dropout on the hidden layer of the neural network. Remember: Dropout should only be introduced during training, not evaluation, otherwise your evaluation results would be stochastic as well. TensorFlow provides `nn.dropout()` for that, but you have to make sure it's only inserted during training.\n",
    "\n",
    "What happens to our extreme overfitting case?\n",
    "\n",
    "---"
   ]
  },
  {
   "cell_type": "code",
   "execution_count": 33,
   "metadata": {
    "collapsed": false
   },
   "outputs": [
    {
     "name": "stdout",
     "output_type": "stream",
     "text": [
      "Initialized\n",
      "Minibatch loss at step 0: 29.946146\n",
      "Minibatch accuracy: 8.6%\n",
      "Validation accuracy: 33.7%\n",
      "Minibatch loss at step 500: 1.150007\n",
      "Minibatch accuracy: 77.3%\n",
      "Validation accuracy: 79.9%\n",
      "Minibatch loss at step 1000: 1.126354\n",
      "Minibatch accuracy: 71.1%\n",
      "Validation accuracy: 81.4%\n",
      "Minibatch loss at step 1500: 1.009677\n",
      "Minibatch accuracy: 76.6%\n",
      "Validation accuracy: 80.8%\n",
      "Minibatch loss at step 2000: 1.263073\n",
      "Minibatch accuracy: 68.8%\n",
      "Validation accuracy: 81.1%\n",
      "Minibatch loss at step 2500: 1.250964\n",
      "Minibatch accuracy: 66.4%\n",
      "Validation accuracy: 77.3%\n",
      "Minibatch loss at step 3000: 1.119730\n",
      "Minibatch accuracy: 70.3%\n",
      "Validation accuracy: 82.6%\n",
      "SGD + RELU + Dropout accuracy: 89.2%\n"
     ]
    }
   ],
   "source": [
    "## NN with L2 Regularization and Dropout\n",
    "\n",
    "batch_size = 128\n",
    "num_steps = 3001\n",
    "beta = 0.1\n",
    "\n",
    "graph_nn = tf.Graph()\n",
    "with graph_nn.as_default():\n",
    "\n",
    "  # Input data. For the training data, we use a placeholder that will be fed\n",
    "  # at run time with a training minibatch.\n",
    "  tf_train_dataset = tf.placeholder(tf.float32,\n",
    "                                    shape=(batch_size, image_size * image_size))\n",
    "  tf_train_labels = tf.placeholder(tf.float32, shape=(batch_size, num_labels))\n",
    "  tf_valid_dataset = tf.constant(valid_dataset)\n",
    "  tf_test_dataset = tf.constant(test_dataset)\n",
    "  \n",
    "  # Variables.\n",
    "  keep_prob = tf.placeholder(\"float\")\n",
    " \n",
    "  # Parametes\n",
    "  n_input = image_size * image_size\n",
    "  n_hidden_1 = 200 # 1st layer nodes(features)\n",
    "\n",
    "  # Store layers weight & bias\n",
    "  layer_weights = {\n",
    "    'l1': tf.Variable(tf.truncated_normal([n_input, n_hidden_1], stddev=0.3)),\n",
    "    'logits': tf.Variable(tf.truncated_normal([n_hidden_1, num_labels], stddev=0.3))\n",
    "  }\n",
    "  layer_biases = {\n",
    "    'l1': tf.Variable(tf.random_normal([n_hidden_1], stddev=0.1)),\n",
    "    'logits': tf.Variable(tf.random_normal([num_labels], stddev=0.1))\n",
    "  }\n",
    "\n",
    "  # NN computation(1st layer)\n",
    "  layer_1 = tf.add(tf.matmul(tf_train_dataset, layer_weights['l1']), layer_biases['l1'])\n",
    "  layer_1_relu = tf.nn.relu(layer_1)\n",
    "    \n",
    "  # Add Dropout to relu output\n",
    "  layer_1_dropout = tf.nn.dropout(layer_1_relu, keep_prob)\n",
    "    \n",
    "  # NN Output(Logits)\n",
    "  logits = tf.add(tf.matmul(layer_1_dropout, layer_weights['logits']), layer_biases['logits'])\n",
    "    \n",
    "  # Set the l2 loss as an average of the weights\n",
    "  l2_loss = beta * tf.nn.l2_loss(layer_weights['logits'])\n",
    "\n",
    "  # Compute softmax and cross entropy of logits  \n",
    "  loss = tf.reduce_mean(\n",
    "    tf.nn.softmax_cross_entropy_with_logits(logits, tf_train_labels)) + l2_loss\n",
    "  \n",
    "  # Optimizer: SGD\n",
    "  optimizer = tf.train.GradientDescentOptimizer(0.3).minimize(loss)\n",
    "  \n",
    "  # Predictions for the training, validation, and test data.\n",
    "  train_prediction = tf.nn.softmax(logits)\n",
    "\n",
    "  # TODO what do I do here to get other predictions?\n",
    "  def forward_prop(dataset):\n",
    "    \n",
    "    # apply first layer with relu\n",
    "     prop_layer_1 = tf.add(tf.matmul(dataset, layer_weights['l1']), layer_biases['l1'])\n",
    "     prop_layer_1_relu = tf.nn.relu(prop_layer_1)\n",
    "\n",
    "     # apply output layer\n",
    "     return tf.add(tf.matmul(prop_layer_1_relu, layer_weights['logits']), layer_biases['logits'])\n",
    "\n",
    "  # now, forward prop the datasets, and set softmax values\n",
    "  valid_prediction = tf.nn.softmax(forward_prop(tf_valid_dataset))\n",
    "  test_prediction = tf.nn.softmax(forward_prop(tf_test_dataset))\n",
    "\n",
    "    \n",
    "def accuracy(predictions, labels):\n",
    "  return (100.0 * np.sum(np.argmax(predictions, 1) == np.argmax(labels, 1))\n",
    "          / predictions.shape[0])\n",
    "\n",
    "with tf.Session(graph=graph_nn) as session:\n",
    "  tf.initialize_all_variables().run()\n",
    "  print(\"Initialized\")\n",
    "  for step in range(num_steps):\n",
    "    # Pick an offset within the training data, which has been randomized.\n",
    "    # Note: we could use better randomization across epochs.\n",
    "    offset = (step * batch_size) % (train_labels.shape[0] - batch_size)\n",
    "    # Generate a minibatch.\n",
    "    batch_data = train_dataset[offset:(offset + batch_size), :]\n",
    "    batch_labels = train_labels[offset:(offset + batch_size), :]\n",
    "    \n",
    "    # Prepare a dictionary telling the session where to feed the minibatch.\n",
    "    # The key of the dictionary is the placeholder node of the graph to be fed,\n",
    "    # and the value is the numpy array to feed to it.\n",
    "    feed_dict = {tf_train_dataset : batch_data, tf_train_labels : batch_labels, keep_prob: 0.3}\n",
    "    _, l, predictions = session.run(\n",
    "      [optimizer, \n",
    "       loss, \n",
    "       train_prediction], \n",
    "        feed_dict=feed_dict)\n",
    "    if (step % 500 == 0):\n",
    "      print(\"Minibatch loss at step %d: %f\" % (step, l))\n",
    "      print(\"Minibatch accuracy: %.1f%%\" % accuracy(predictions, batch_labels))\n",
    "      print(\"Validation accuracy: %.1f%%\" % accuracy(\n",
    "        valid_prediction.eval(), valid_labels))\n",
    "  print(\"SGD + RELU + Dropout accuracy: %.1f%%\" % accuracy(test_prediction.eval(), test_labels))\n",
    "\n"
   ]
  },
  {
   "cell_type": "markdown",
   "metadata": {
    "colab_type": "text",
    "id": "-b1hTz3VWZjw"
   },
   "source": [
    "---\n",
    "Problem 4\n",
    "---------\n",
    "\n",
    "Try to get the best performance you can using a multi-layer model! The best reported test accuracy using a deep network is [97.1%](http://yaroslavvb.blogspot.com/2011/09/notmnist-dataset.html?showComment=1391023266211#c8758720086795711595).\n",
    "\n",
    "One avenue you can explore is to add multiple layers.\n",
    "\n",
    "Another one is to use learning rate decay:\n",
    "\n",
    "    global_step = tf.Variable(0)  # count the number of steps taken.\n",
    "    learning_rate = tf.train.exponential_decay(0.5, global_step, ...)\n",
    "    optimizer = tf.train.GradientDescentOptimizer(learning_rate).minimize(loss, global_step=global_step)\n",
    " \n",
    " ---\n"
   ]
  },
  {
   "cell_type": "code",
   "execution_count": null,
   "metadata": {
    "collapsed": true
   },
   "outputs": [],
   "source": [
    "# TODO, GET YOUR DESKTOP RUNNING WITH ITS GPU MIGHT"
   ]
  }
 ],
 "metadata": {
  "colab": {
   "default_view": {},
   "name": "3_regularization.ipynb",
   "provenance": [],
   "version": "0.3.2",
   "views": {}
  },
  "kernelspec": {
   "display_name": "Python 2",
   "language": "python",
   "name": "python2"
  },
  "language_info": {
   "codemirror_mode": {
    "name": "ipython",
    "version": 2
   },
   "file_extension": ".py",
   "mimetype": "text/x-python",
   "name": "python",
   "nbconvert_exporter": "python",
   "pygments_lexer": "ipython2",
   "version": "2.7.10"
  }
 },
 "nbformat": 4,
 "nbformat_minor": 0
}
